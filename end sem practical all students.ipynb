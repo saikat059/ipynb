{
 "cells": [
  {
   "cell_type": "markdown",
   "id": "7e8881af",
   "metadata": {},
   "source": [
    "Student 1:\n",
    "Name : Suvranil Das,     \n",
    "Roll No. : 30001222001,    Reg No. : 223001010602"
   ]
  },
  {
   "cell_type": "markdown",
   "id": "9fb3e0dd",
   "metadata": {},
   "source": [
    "1) Python program to find Maximum and minimum of an array using minimum number of comparisons.\n"
   ]
  },
  {
   "cell_type": "code",
   "execution_count": 6,
   "id": "8bbde6d1",
   "metadata": {},
   "outputs": [
    {
     "name": "stdout",
     "output_type": "stream",
     "text": [
      "Minimum element is: 2\n",
      "Maximum element is: 9\n"
     ]
    }
   ],
   "source": [
    "# python program for above question\n",
    "def set_min(A):\n",
    "    mini = float('inf')  \n",
    "    for num in A:\n",
    "        if num < mini:\n",
    "            mini = num\n",
    "    return mini\n",
    "\n",
    "def set_max(A):\n",
    "    maxi = float('-inf')  \n",
    "    for num in A:\n",
    "        if num > maxi:\n",
    "            maxi = num\n",
    "    return maxi\n",
    "\n",
    "# Driver code\n",
    "if __name__ == \"__main__\":\n",
    "    A = [4, 9, 6, 5, 2, 3]\n",
    "    N = len(A)\n",
    "    print(\"Minimum element is:\", set_min(A))\n",
    "    print(\"Maximum element is:\", set_max(A))"
   ]
  },
  {
   "cell_type": "markdown",
   "id": "815e8c72",
   "metadata": {},
   "source": [
    "2) Maximum and Minimum of an array using sorting"
   ]
  },
  {
   "cell_type": "code",
   "execution_count": 3,
   "id": "0a0ed3f3",
   "metadata": {},
   "outputs": [
    {
     "name": "stdout",
     "output_type": "stream",
     "text": [
      "Minimum element is 1\n",
      "Maximum element is 3000\n"
     ]
    }
   ],
   "source": [
    "# python program for above question\n",
    "\n",
    "def getMinMax(arr):\n",
    "    arr.sort()\n",
    "    minmax = {\"min\": arr[0], \"max\": arr[-1]}\n",
    "    return minmax\n",
    "\n",
    "arr = [1000, 11, 445, 1, 330, 3000]\n",
    "minmax = getMinMax(arr)\n",
    "\n",
    "print(\"Minimum element is\", minmax[\"min\"])\n",
    "print(\"Maximum element is\", minmax[\"max\"])"
   ]
  },
  {
   "cell_type": "markdown",
   "id": "69a87b67",
   "metadata": {},
   "source": [
    "3) Python program to find Maximum and minimum of an array using Linear search "
   ]
  },
  {
   "cell_type": "code",
   "execution_count": 4,
   "id": "65d4e2b1",
   "metadata": {},
   "outputs": [
    {
     "name": "stdout",
     "output_type": "stream",
     "text": [
      "Minimum element is 1\n",
      "Maximum element is 3000\n"
     ]
    }
   ],
   "source": [
    "# python program for above question.\n",
    "\n",
    "class pair:\n",
    "    def __init__(self):\n",
    "        self.min = 0\n",
    "        self.max = 0\n",
    "\n",
    "def getMinMax(arr: list, n: int) -> pair:\n",
    "    minmax = pair()\n",
    "\n",
    "    \n",
    "    if n == 1:\n",
    "        minmax.max = arr[0]\n",
    "        minmax.min = arr[0]\n",
    "        return minmax\n",
    "\n",
    "    \n",
    "    if arr[0] > arr[1]:\n",
    "        minmax.max = arr[0]\n",
    "        minmax.min = arr[1]\n",
    "    else:\n",
    "        minmax.max = arr[1]\n",
    "        minmax.min = arr[0]\n",
    "\n",
    "    for i in range(2, n):\n",
    "        if arr[i] > minmax.max:\n",
    "            minmax.max = arr[i]\n",
    "        elif arr[i] < minmax.min:\n",
    "            minmax.min = arr[i]\n",
    "\n",
    "    return minmax\n",
    "\n",
    "# driver code\n",
    "if __name__ == \"__main__\":\n",
    "    arr = [1000, 11, 445, 1, 330, 3000]\n",
    "    arr_size = 6\n",
    "    minmax = getMinMax(arr, arr_size)\n",
    "    print(\"Minimum element is\", minmax.min)\n",
    "    print(\"Maximum element is\", minmax.max)"
   ]
  },
  {
   "cell_type": "markdown",
   "id": "8852f014",
   "metadata": {},
   "source": [
    "4) Maximum and minimum of an array using the Tournament method :"
   ]
  },
  {
   "cell_type": "code",
   "execution_count": 8,
   "id": "c81cc017",
   "metadata": {},
   "outputs": [
    {
     "name": "stdout",
     "output_type": "stream",
     "text": [
      "Minimum element is  1\n",
      "nMaximum element is  3000\n"
     ]
    }
   ],
   "source": [
    "# Python program of above implementation\n",
    "def getMinMax(low, high, arr):\n",
    "    arr_max = arr[low]\n",
    "    arr_min = arr[low]\n",
    "\n",
    "    if low == high:\n",
    "        arr_max = arr[low]\n",
    "        arr_min = arr[low]\n",
    "        return (arr_max, arr_min)\n",
    "\n",
    "    elif high == low + 1:\n",
    "        if arr[low] > arr[high]:\n",
    "            arr_max = arr[low]\n",
    "            arr_min = arr[high]\n",
    "        else:\n",
    "            arr_max = arr[high]\n",
    "            arr_min = arr[low]\n",
    "        return (arr_max, arr_min)\n",
    "    else:\n",
    "\n",
    "        mid = int((low + high) / 2)\n",
    "        arr_max1, arr_min1 = getMinMax(low, mid, arr)\n",
    "        arr_max2, arr_min2 = getMinMax(mid + 1, high, arr)\n",
    "\n",
    "    return (max(arr_max1, arr_max2), min(arr_min1, arr_min2))\n",
    "\n",
    "\n",
    "# Driver code\n",
    "\n",
    "arr = [1000, 11, 445, 1, 330, 3000]\n",
    "high = len(arr) - 1\n",
    "low = 0\n",
    "arr_max, arr_min = getMinMax(low, high, arr)\n",
    "print('Minimum element is ', arr_min)\n",
    "print('nMaximum element is ', arr_max)"
   ]
  },
  {
   "cell_type": "markdown",
   "id": "714d01ee",
   "metadata": {},
   "source": [
    "5) Maximum and minimum of an array by comparing in pairs :"
   ]
  },
  {
   "cell_type": "code",
   "execution_count": 7,
   "id": "2077773a",
   "metadata": {},
   "outputs": [
    {
     "name": "stdout",
     "output_type": "stream",
     "text": [
      "Minimum element is 1\n",
      "Maximum element is 3000\n"
     ]
    }
   ],
   "source": [
    "# Python program of above implementation \n",
    "def getMinMax(arr):\n",
    "    \n",
    "    n = len(arr)\n",
    " \n",
    "    if(n % 2 == 0):\n",
    "        \n",
    "        if arr[0] < arr[1]:\n",
    "            mn = arr[0]\n",
    "            mx = arr[1]\n",
    "        else:\n",
    "            mn = arr[1]\n",
    "            mx = arr[0] \n",
    "        i = 2\n",
    " \n",
    "    else:\n",
    "        mx = mn = arr[0]\n",
    "        i = 1\n",
    "         \n",
    "    while(i < n - 1):\n",
    "        if arr[i] < arr[i + 1]:\n",
    "            mx = max(mx, arr[i + 1])\n",
    "            mn = min(mn, arr[i])\n",
    "        else:\n",
    "            mx = max(mx, arr[i])\n",
    "            mn = min(mn, arr[i + 1])\n",
    "        i += 2\n",
    "    return (mx, mn)\n",
    "    \n",
    "# Driver Code\n",
    "if __name__ =='__main__':\n",
    "    \n",
    "    arr = [1000, 11, 445, 1, 330, 3000]\n",
    "    mx, mn = getMinMax(arr)\n",
    "    print(\"Minimum element is\", mn)\n",
    "    print(\"Maximum element is\", mx)\n"
   ]
  },
  {
   "cell_type": "markdown",
   "id": "7345d9cc",
   "metadata": {},
   "source": [
    "5) Find maximum and minimum elements from an array of integers using divide and conquer strategy."
   ]
  },
  {
   "cell_type": "code",
   "execution_count": 12,
   "id": "808c4213",
   "metadata": {},
   "outputs": [
    {
     "name": "stdout",
     "output_type": "stream",
     "text": [
      "Maximum element is :  64\n",
      "Minimum element is :  4\n"
     ]
    }
   ],
   "source": [
    "# python program for above problem.\n",
    "\n",
    "def max_min_divide_conquer(arr, low, high):\n",
    "    class Pair:\n",
    "        def __init__(self):\n",
    "            self.max = 0\n",
    "            self.min = 0\n",
    "    result = Pair()\n",
    "        \n",
    "    if low == high:\n",
    "        result.max = arr[low]\n",
    "        result.min = arr[low]\n",
    "        return result\n",
    "    if high == low+1:\n",
    "        if arr[low] < arr[high]:\n",
    "            result.min = arr[low]\n",
    "            result.max = arr[high]\n",
    "        else :\n",
    "            result.min = arr[high]\n",
    "            result.max = arr[low]\n",
    "        return result\n",
    "    \n",
    "    mid = (low + high) // 2\n",
    "    left = max_min_divide_conquer(arr, low, mid)\n",
    "    right = max_min_divide_conquer(arr, mid + 1, high)\n",
    "    result.max = max(left.max, right.max)\n",
    "    result.min = min(left.min, right.min)\n",
    "    return result \n",
    "arr = [6, 4, 26, 14, 33, 64, 46]\n",
    "result = max_min_divide_conquer(arr, 0, len(arr) - 1)\n",
    "print(\"Maximum element is : \", result.max)\n",
    "print(\"Minimum element is : \", result.min)\n"
   ]
  },
  {
   "cell_type": "code",
   "execution_count": null,
   "id": "245542ad",
   "metadata": {},
   "outputs": [],
   "source": []
  },
  {
   "cell_type": "markdown",
   "id": "93835199",
   "metadata": {},
   "source": [
    "Student 2:         \n",
    "Name :           \n",
    "Roll No. : 300012221       \n",
    "Reg No. : 2230010106\n"
   ]
  },
  {
   "cell_type": "markdown",
   "id": "6b06d9b4",
   "metadata": {},
   "source": [
    "7) Merge Sort"
   ]
  },
  {
   "cell_type": "code",
   "execution_count": 1,
   "id": "d6cc2619",
   "metadata": {},
   "outputs": [
    {
     "name": "stdout",
     "output_type": "stream",
     "text": [
      "Given array is\n",
      "12 11 13 5 6 7 \n",
      "\n",
      "Sorted array is\n",
      "5 6 7 11 12 13 \n"
     ]
    }
   ],
   "source": [
    "# python program for above problem.\n",
    "\n",
    "def merge(array, left, mid, right):\n",
    "    subArrayOne = mid - left + 1\n",
    "    subArrayTwo = right - mid\n",
    "    leftArray = [0] * subArrayOne\n",
    "    rightArray = [0] * subArrayTwo\n",
    "    for i in range(subArrayOne):\n",
    "        leftArray[i] = array[left + i]\n",
    "    for j in range(subArrayTwo):\n",
    "        rightArray[j] = array[mid + 1 + j]\n",
    "    indexOfSubArrayOne = 0 \n",
    "    indexOfSubArrayTwo = 0  \n",
    "    indexOfMergedArray = left\n",
    "    while indexOfSubArrayOne < subArrayOne and indexOfSubArrayTwo < subArrayTwo:\n",
    "        if leftArray[indexOfSubArrayOne] <= rightArray[indexOfSubArrayTwo]:\n",
    "            array[indexOfMergedArray] = leftArray[indexOfSubArrayOne]\n",
    "            indexOfSubArrayOne += 1\n",
    "        else:\n",
    "            array[indexOfMergedArray] = rightArray[indexOfSubArrayTwo]\n",
    "            indexOfSubArrayTwo += 1\n",
    "        indexOfMergedArray += 1\n",
    "    while indexOfSubArrayOne < subArrayOne:\n",
    "        array[indexOfMergedArray] = leftArray[indexOfSubArrayOne]\n",
    "        indexOfSubArrayOne += 1\n",
    "        indexOfMergedArray += 1\n",
    "    while indexOfSubArrayTwo < subArrayTwo:\n",
    "        array[indexOfMergedArray] = rightArray[indexOfSubArrayTwo]\n",
    "        indexOfSubArrayTwo += 1\n",
    "        indexOfMergedArray += 1\n",
    "def mergeSort(array, begin, end):\n",
    "    if begin >= end:\n",
    "        return\n",
    "    mid = begin + (end - begin) // 2\n",
    "    mergeSort(array, begin, mid)\n",
    "    mergeSort(array, mid + 1, end)\n",
    "    merge(array, begin, mid, end)\n",
    "def printArray(array, size):\n",
    "    for i in range(size):\n",
    "        print(array[i], end=\" \")\n",
    "    print()\n",
    "if __name__ == \"__main__\":\n",
    "    arr = [12, 11, 13, 5, 6, 7]\n",
    "    arr_size = len(arr)\n",
    "    print(\"Given array is\")\n",
    "    printArray(arr, arr_size)\n",
    "    mergeSort(arr, 0, arr_size - 1)\n",
    "    print(\"\\nSorted array is\")\n",
    "    printArray(arr, arr_size)"
   ]
  },
  {
   "cell_type": "markdown",
   "id": "5d4d6b81",
   "metadata": {},
   "source": [
    "8) 8.1) Quick Sort"
   ]
  },
  {
   "cell_type": "code",
   "execution_count": 2,
   "id": "e68f77dd",
   "metadata": {},
   "outputs": [
    {
     "name": "stdout",
     "output_type": "stream",
     "text": [
      "Sorted array:\n",
      "-2 1 1 4 7 9 10 "
     ]
    }
   ],
   "source": [
    "# python program for above problem\n",
    "def partition(array, low, high):\n",
    "    pivot = array[high]\n",
    "    i = low - 1    \n",
    "    for j in range(low, high):\n",
    "        if array[j] <= pivot:\n",
    "            i = i + 1\n",
    "            (array[i], array[j]) = (array[j], array[i])\n",
    "    (array[i + 1], array[high]) = (array[high], array[i + 1])\n",
    "    return i + 1\n",
    "def quicksort(array, low, high):\n",
    "    if low < high:\n",
    "        pi = partition(array, low, high)\n",
    "        quicksort(array, low, pi - 1)\n",
    "        quicksort(array, pi + 1, high)\n",
    "if __name__ == '__main__':\n",
    "    array = [1,7,4,1,10,9,-2]\n",
    "    N = len(array)\n",
    "\n",
    "    quicksort(array, 0, N - 1)\n",
    "    print('Sorted array:')\n",
    "    for x in array:\n",
    "        print(x, end=\" \") "
   ]
  },
  {
   "cell_type": "markdown",
   "id": "50ead451",
   "metadata": {},
   "source": [
    "8.2) Quick Sort using comprehension "
   ]
  },
  {
   "cell_type": "code",
   "execution_count": 3,
   "id": "da624d99",
   "metadata": {},
   "outputs": [
    {
     "name": "stdout",
     "output_type": "stream",
     "text": [
      "Sorted array: [-2, 1, 1, 4, 7, 9, 10]\n"
     ]
    }
   ],
   "source": [
    "# python program for above problem\n",
    "def quick_sort(arr):\n",
    "    if len(arr) <= 1:\n",
    "        return arr\n",
    "    else:\n",
    "        pivot = arr[len(arr) // 2]\n",
    "        left = [x for x in arr if x < pivot]\n",
    "        middle = [x for x in arr if x == pivot]\n",
    "        right = [x for x in arr if x > pivot]\n",
    "        return quick_sort(left) + middle + quick_sort(right)\n",
    "arr = [1,7,4,1,10,9,-2]\n",
    "sorted_arr = quick_sort(arr)\n",
    "print(\"Sorted array:\", sorted_arr)"
   ]
  },
  {
   "cell_type": "markdown",
   "id": "5605c84f",
   "metadata": {},
   "source": [
    "9) Heap Sort"
   ]
  },
  {
   "cell_type": "code",
   "execution_count": 4,
   "id": "6ec93865",
   "metadata": {},
   "outputs": [
    {
     "name": "stdout",
     "output_type": "stream",
     "text": [
      "Sorted array is\n",
      "5 6 7 11 12 13 "
     ]
    }
   ],
   "source": [
    "# python program for above problem\n",
    "def heapify(arr, N, i):\n",
    "    largest = i  \n",
    "    l = 2 * i + 1     \n",
    "    r = 2 * i + 2     \n",
    "    if l < N and arr[largest] < arr[l]:\n",
    "        largest = l\n",
    "    if r < N and arr[largest] < arr[r]:\n",
    "        largest = r\n",
    "    if largest != i:\n",
    "        arr[i], arr[largest] = arr[largest], arr[i]  \n",
    "        heapify(arr, N, largest)\n",
    "def heapSort(arr):\n",
    "    N = len(arr)\n",
    "    for i in range(N//2 - 1, -1, -1):\n",
    "        heapify(arr, N, i)\n",
    "    for i in range(N-1, 0, -1):\n",
    "        arr[i], arr[0] = arr[0], arr[i]  \n",
    "        heapify(arr, i, 0)\n",
    "if __name__ == '__main__':\n",
    "    arr = [12, 11, 13, 5, 6, 7]\n",
    "    heapSort(arr)\n",
    "    N = len(arr)\n",
    "\n",
    "    print(\"Sorted array is\")\n",
    "    for i in range(N):\n",
    "        print(\"%d\" % arr[i], end=\" \")"
   ]
  },
  {
   "cell_type": "code",
   "execution_count": null,
   "id": "1121e5f6",
   "metadata": {},
   "outputs": [],
   "source": []
  },
  {
   "cell_type": "markdown",
   "id": "3a3c7087",
   "metadata": {},
   "source": [
    "Student 3:       \n",
    "Name:          \n",
    "Roll No. : 3000122        \n",
    "Reg No. : 223001010"
   ]
  },
  {
   "cell_type": "markdown",
   "id": "9abc2797",
   "metadata": {},
   "source": [
    "10) Set Manipulation Algorithm by Union-Find (Find Function,\n",
    "    Union Function, Path Compression (Modifications to Find()):)"
   ]
  },
  {
   "cell_type": "markdown",
   "id": "48dd9344",
   "metadata": {},
   "source": [
    "10.1)Set Manipulation Algorithm by Union-Find."
   ]
  },
  {
   "cell_type": "markdown",
   "id": "a970c3c5",
   "metadata": {},
   "source": [
    "1. Find:\n",
    "   Can be implemented by recursively traversing the parent array\n",
    "   until we hit a node that is the parent of itself."
   ]
  },
  {
   "cell_type": "code",
   "execution_count": null,
   "id": "127ba867",
   "metadata": {},
   "outputs": [],
   "source": [
    "# Finds the representative of the set \n",
    "# that i is an element of \n",
    "def find(i): \n",
    "\t# If i is the parent of itself \n",
    "\tif (parent[i] == i): \n",
    "\t\t# Then i is the representative of \n",
    "\t\t# this set \n",
    "\t\treturn i \n",
    "\telse: \n",
    "\t\t# Else if i is not the parent of \n",
    "\t\t# itself, then i is not the \n",
    "\t\t# representative of his set. So we \n",
    "\t\t# recursively call Find on its parent \n",
    "\t\treturn find(parent[i]) "
   ]
  },
  {
   "cell_type": "markdown",
   "id": "dafacfa7",
   "metadata": {},
   "source": [
    "2. Union: \n",
    "   It takes two elements as input and finds the representatives of\n",
    "   their sets using the Find operation, and finally puts either \n",
    "   one of the trees (representing the set) under the root node of the other tree."
   ]
  },
  {
   "cell_type": "code",
   "execution_count": null,
   "id": "3064192e",
   "metadata": {},
   "outputs": [],
   "source": [
    "# Unites the set that includes i \n",
    "# and the set that includes j \n",
    "def union(parent, rank, i, j): \n",
    "\t# Find the representatives \n",
    "\t# (or the root nodes) for the set \n",
    "\t# that includes i \n",
    "\tirep = find(parent, i) \n",
    "\t# And do the same for the set \n",
    "\t# that includes j \n",
    "\tjrep = find(parent, j) \n",
    "\t# Make the parent of i’s representative \n",
    "\t# be j’s representative effectively \n",
    "\t# moving all of i’s set into j’s set) \n",
    "\tparent[irep] = jrep "
   ]
  },
  {
   "cell_type": "markdown",
   "id": "5ee1ef65",
   "metadata": {},
   "source": [
    "10.2) Path Compression (Modifications to Find()):\n",
    "It speeds up the data structure by compressing the height of the trees. \n",
    "It can be achieved by inserting a small caching mechanism into the Find operation. \n",
    "Take a look at the code for more details:"
   ]
  },
  {
   "cell_type": "code",
   "execution_count": 5,
   "id": "4f2e672d",
   "metadata": {},
   "outputs": [],
   "source": [
    "# Finds the representative of the set that i \n",
    "# is an element of. \n",
    "def find(i): \n",
    "\t# If i is the parent of itself \n",
    "\tif Parent[i] == i: \n",
    "\t\t# Then i is the representative \n",
    "\t\treturn i \n",
    "\telse: \n",
    "\t\t# Recursively find the representative. \n",
    "\t\tresult = find(Parent[i]) \n",
    "\t\t# We cache the result by moving i’s node \n",
    "\t\t# directly under the representative of this \n",
    "\t\t# set \n",
    "\t\tParent[i] = result \n",
    "\t\t# And then we return the result \n",
    "\t\treturn result "
   ]
  },
  {
   "cell_type": "markdown",
   "id": "b7e877b3",
   "metadata": {},
   "source": [
    "11) Union by Rank and Union by Size:"
   ]
  },
  {
   "cell_type": "markdown",
   "id": "d98f7a4a",
   "metadata": {},
   "source": [
    "11.1) Union by Rank"
   ]
  },
  {
   "cell_type": "code",
   "execution_count": 6,
   "id": "9401cb5a",
   "metadata": {},
   "outputs": [
    {
     "name": "stdout",
     "output_type": "stream",
     "text": [
      "Element 0 belongs to the set with representative 3\n",
      "Element 1 belongs to the set with representative 3\n",
      "Element 2 belongs to the set with representative 3\n",
      "Element 3 belongs to the set with representative 3\n",
      "Element 4 belongs to the set with representative 4\n"
     ]
    }
   ],
   "source": [
    "# python program for above problem\n",
    "class DisjointSet: \n",
    "\tdef __init__(self, size): \n",
    "\t\tself.parent = [i for i in range(size)] \n",
    "\t\tself.rank = [0] * size \n",
    "\tdef find(self, i):  \n",
    "\t\tif self.parent[i] != i: \n",
    "\t\t\tself.parent[i] = self.find(self.parent[i])  \n",
    "\t\treturn self.parent[i] \n",
    "\tdef union_by_rank(self, i, j): \n",
    "\t\tirep = self.find(i) \n",
    "\t\tjrep = self.find(j)  \n",
    "\t\tif irep == jrep: \n",
    "\t\t\treturn \n",
    "\t\tirank = self.rank[irep] \n",
    "\t\tjrank = self.rank[jrep] \n",
    "\t\tif irank < jrank: \n",
    "\t\t\tself.parent[irep] = jrep  \n",
    "\t\telif jrank < irank:  \n",
    "\t\t\tself.parent[jrep] = irep \n",
    "\t\telse: \n",
    "\t\t\tself.parent[irep] = jrep \n",
    "\t\t\tself.rank[jrep] += 1\n",
    "\tdef main(self):  \n",
    "\t\tsize = 5\n",
    "\t\tds = DisjointSet(size) \n",
    "\t\tds.union_by_rank(0, 1) \n",
    "\t\tds.union_by_rank(2, 3) \n",
    "\t\tds.union_by_rank(1, 3) \n",
    "\t\tfor i in range(size): \n",
    "\t\t\tprint(f\"Element {i} belongs to the set with representative {ds.find(i)}\") \n",
    "ds = DisjointSet(size=5) \n",
    "ds.main() "
   ]
  },
  {
   "cell_type": "markdown",
   "id": "4a3086da",
   "metadata": {},
   "source": [
    "11.2) Union by Size"
   ]
  },
  {
   "cell_type": "code",
   "execution_count": 7,
   "id": "8e85be17",
   "metadata": {},
   "outputs": [
    {
     "name": "stdout",
     "output_type": "stream",
     "text": [
      "Element 0: Representative = 0\n",
      "Element 1: Representative = 0\n",
      "Element 2: Representative = 2\n",
      "Element 3: Representative = 2\n",
      "Element 4: Representative = 0\n"
     ]
    }
   ],
   "source": [
    "# python program for above problem\n",
    "class UnionFind: \n",
    "\tdef __init__(self, n): \n",
    "\t\tself.Parent = list(range(n)) \n",
    "\t\tself.Size = [1] * n \n",
    "\tdef find(self, i): \n",
    "\t\tif self.Parent[i] != i: \n",
    "\t\t\tself.Parent[i] = self.find(self.Parent[i]) \n",
    "\t\treturn self.Parent[i] \n",
    "\tdef unionBySize(self, i, j):  \n",
    "\t\tirep = self.find(i) \n",
    "\t\tjrep = self.find(j) \n",
    "\t\tif irep == jrep: \n",
    "\t\t\treturn\n",
    "\t\tisize = self.Size[irep]  \n",
    "\t\tjsize = self.Size[jrep] \n",
    "\t\tif isize < jsize: \n",
    "\t\t\tself.Parent[irep] = jrep \n",
    "\t\t\tself.Size[jrep] += self.Size[irep] \n",
    "\t\telse: \n",
    "\t\t\tself.Parent[jrep] = irep \n",
    "\t\t\tself.Size[irep] += self.Size[jrep] \n",
    "n = 5\n",
    "unionFind = UnionFind(n) \n",
    "unionFind.unionBySize(0, 1) \n",
    "unionFind.unionBySize(2, 3) \n",
    "unionFind.unionBySize(0, 4) \n",
    "for i in range(n): \n",
    "\tprint(\"Element {}: Representative = {}\".format(i, unionFind.find(i))) "
   ]
  },
  {
   "cell_type": "markdown",
   "id": "37e6f379",
   "metadata": {},
   "source": [
    "12) The complete implementation of disjoint set with path compression and union by rank."
   ]
  },
  {
   "cell_type": "code",
   "execution_count": 8,
   "id": "735a6482",
   "metadata": {},
   "outputs": [
    {
     "name": "stdout",
     "output_type": "stream",
     "text": [
      "Yes\n",
      "No\n"
     ]
    }
   ],
   "source": [
    "# python program for above problem\n",
    "class DisjSet: \n",
    "\tdef __init__(self, n):  \n",
    "\t\tself.rank = [1] * n \n",
    "\t\tself.parent = [i for i in range(n)] \n",
    "\tdef find(self, x): \n",
    "\t\tif (self.parent[x] != x): \n",
    "\t\t\tself.parent[x] = self.find(self.parent[x]) \n",
    "\t\treturn self.parent[x]  \n",
    "\tdef Union(self, x, y): \n",
    "\t\txset = self.find(x) \n",
    "\t\tyset = self.find(y) \n",
    "\t\tif xset == yset: \n",
    "\t\t\treturn\n",
    "\t\tif self.rank[xset] < self.rank[yset]: \n",
    "\t\t\tself.parent[xset] = yset \n",
    "\t\telif self.rank[xset] > self.rank[yset]: \n",
    "\t\t\tself.parent[yset] = xset \n",
    "\t\telse: \n",
    "\t\t\tself.parent[yset] = xset \n",
    "\t\t\tself.rank[xset] = self.rank[xset] + 1\n",
    "obj = DisjSet(5) \n",
    "obj.Union(0, 2) \n",
    "obj.Union(4, 2) \n",
    "obj.Union(3, 1) \n",
    "if obj.find(4) == obj.find(0): \n",
    "\tprint('Yes') \n",
    "else: \n",
    "\tprint('No') \n",
    "if obj.find(1) == obj.find(0): \n",
    "\tprint('Yes') \n",
    "else: \n",
    "\tprint('No') "
   ]
  },
  {
   "cell_type": "code",
   "execution_count": null,
   "id": "337ce4a5",
   "metadata": {},
   "outputs": [],
   "source": []
  },
  {
   "cell_type": "markdown",
   "id": "897a4013",
   "metadata": {},
   "source": [
    "Student 4:       \n",
    "Name:          \n",
    "Roll No. : 3000122        \n",
    "Reg No. : 223001010"
   ]
  },
  {
   "cell_type": "markdown",
   "id": "2b1c2e94",
   "metadata": {},
   "source": [
    "13) Python program for activity selection problem"
   ]
  },
  {
   "cell_type": "code",
   "execution_count": 9,
   "id": "511dd441",
   "metadata": {},
   "outputs": [
    {
     "name": "stdout",
     "output_type": "stream",
     "text": [
      "Following actvities  are selected \n",
      "0 1 3 4 "
     ]
    }
   ],
   "source": [
    "# python program for above problem \n",
    "\n",
    "def printMaxActivities(s, f) :\n",
    "    n = len(f)\n",
    "    print(\"Following actvities  are selected \")\n",
    "    i = 0\n",
    "    print(i, end=' ')\n",
    "    for j in range(1,n):\n",
    "        if s[j] >= f[i]:\n",
    "            print(j, end=' ')\n",
    "            i=j\n",
    "\n",
    "# driver code\n",
    "if __name__ == '__main__':\n",
    "    s = [1, 3, 0, 5, 8, 5]\n",
    "    f = [2, 4, 6, 7, 9, 9]\n",
    "    printMaxActivities(s, f)"
   ]
  },
  {
   "cell_type": "markdown",
   "id": "3945fb30",
   "metadata": {},
   "source": [
    "14) Python prpgram for knapsack problem"
   ]
  },
  {
   "cell_type": "code",
   "execution_count": 10,
   "id": "9474c467",
   "metadata": {},
   "outputs": [
    {
     "name": "stdout",
     "output_type": "stream",
     "text": [
      "240.0\n"
     ]
    }
   ],
   "source": [
    "# python progrm for above problem\n",
    "\n",
    "class Item :\n",
    "    def __init__ (self, profit, weight):\n",
    "        self.profit = profit\n",
    "        self.weight = weight\n",
    "\n",
    "def fractionalKnapsack(W, arr) :\n",
    "    arr.sort(key=lambda x: (x.profit/x.weight), reverse=True)\n",
    "    finalvalue = 0.0\n",
    "    for item in arr:\n",
    "        if item.weight <= W:\n",
    "            W -= item.weight\n",
    "            finalvalue += item.profit\n",
    "        else:\n",
    "            finalvalue += item.profit * W / item.weight\n",
    "            break\n",
    "    return finalvalue\n",
    "\n",
    "# Driver code\n",
    "if __name__ == \"__main__\":\n",
    "    W = 50\n",
    "    arr = [Item(60, 10), Item(100, 20), Item (120, 30)]\n",
    "    \n",
    "    max_val = fractionalKnapsack(W, arr)\n",
    "    print(max_val)"
   ]
  },
  {
   "cell_type": "markdown",
   "id": "49e86d3e",
   "metadata": {},
   "source": [
    "15) Greedy approach for job sequencing problem"
   ]
  },
  {
   "cell_type": "code",
   "execution_count": 11,
   "id": "b9c25ca2",
   "metadata": {},
   "outputs": [
    {
     "name": "stdout",
     "output_type": "stream",
     "text": [
      "Following is maximum profit sequence of jobs\n",
      "['c', 'a', 'e']\n"
     ]
    }
   ],
   "source": [
    "# Python3 code for the above approach\n",
    "def printJobScheduling(arr, t):\n",
    "\n",
    "\tn = len(arr)\n",
    "\n",
    "\n",
    "\tfor i in range(n):\n",
    "\t\tfor j in range(n - 1 - i):\n",
    "\t\t\tif arr[j][2] < arr[j + 1][2]:\n",
    "\t\t\t\tarr[j], arr[j + 1] = arr[j + 1], arr[j]\n",
    "\n",
    "\tresult = [False] * t\n",
    "\tjob = ['-1'] * t\n",
    "\n",
    "\n",
    "\tfor i in range(len(arr)):\n",
    "\n",
    "\t\tfor j in range(min(t - 1, arr[i][1] - 1), -1, -1):\n",
    "\n",
    "\n",
    "\t\t\tif result[j] is False:\n",
    "\t\t\t\tresult[j] = True\n",
    "\t\t\t\tjob[j] = arr[i][0]\n",
    "\t\t\t\tbreak\n",
    "\n",
    "\tprint(job)\n",
    "\n",
    "\n",
    "# Driver's Code\n",
    "if __name__ == '__main__':\n",
    "\tarr = [['a', 2, 100], \n",
    "\t\t\t['b', 1, 19],\n",
    "\t\t\t['c', 2, 27],\n",
    "\t\t\t['d', 1, 25],\n",
    "\t\t\t['e', 3, 15]]\n",
    "\n",
    "\n",
    "\tprint(\"Following is maximum profit sequence of jobs\")\n",
    "\n",
    "\t# Function Call\n",
    "\tprintJobScheduling(arr, 3)"
   ]
  },
  {
   "cell_type": "markdown",
   "id": "f225aa93",
   "metadata": {},
   "source": [
    "16) Job sequencing problem using Priority-Queue(Max Heap)"
   ]
  },
  {
   "cell_type": "code",
   "execution_count": 12,
   "id": "ff707191",
   "metadata": {},
   "outputs": [
    {
     "name": "stdout",
     "output_type": "stream",
     "text": [
      "Following is maximum profit sequence of jobs\n",
      "a c e \n"
     ]
    }
   ],
   "source": [
    "# Python program for the above approach \n",
    "import heapq\n",
    "\n",
    "\n",
    "def printJobScheduling(arr):\n",
    "\tn = len(arr)\n",
    "\n",
    "\tarr.sort(key=lambda x: x[1])\n",
    "\n",
    "\tresult = []\n",
    "\tmaxHeap = []\n",
    "\n",
    "\tfor i in range(n - 1, -1, -1):\n",
    "\n",
    "\t\tif i == 0:\n",
    "\t\t\tslots_available = arr[i][1]\n",
    "\t\telse:\n",
    "\t\t\tslots_available = arr[i][1] - arr[i - 1][1]\n",
    "\n",
    "\t\theapq.heappush(maxHeap, (-arr[i][2], arr[i][1], arr[i][0]))\n",
    "\n",
    "\t\twhile slots_available and maxHeap:\n",
    "\n",
    "\t\t\tprofit, deadline, job_id = heapq.heappop(maxHeap)\n",
    "\n",
    "\t\t\tslots_available -= 1\n",
    "\n",
    "\n",
    "\t\t\tresult.append([job_id, deadline])\n",
    "\n",
    "\tresult.sort(key=lambda x: x[1])\n",
    "\n",
    "\tfor job in result:\n",
    "\t\tprint(job[0], end=\" \")\n",
    "\tprint()\n",
    "\n",
    "\n",
    "# Driver's Code\n",
    "if __name__ == '__main__':\n",
    "\tarr = [['a', 2, 100], # Job Array\n",
    "\t\t['b', 1, 19],\n",
    "\t\t['c', 2, 27],\n",
    "\t\t['d', 1, 25],\n",
    "\t\t['e', 3, 15]]\n",
    "\n",
    "\tprint(\"Following is maximum profit sequence of jobs\")\n",
    "\n",
    "\t# Function Call\n",
    "\tprintJobScheduling(arr)"
   ]
  },
  {
   "cell_type": "code",
   "execution_count": null,
   "id": "2e77003e",
   "metadata": {},
   "outputs": [],
   "source": []
  },
  {
   "cell_type": "code",
   "execution_count": null,
   "id": "86676f04",
   "metadata": {},
   "outputs": [],
   "source": [
    "Student 5 :       \n",
    "Name:          \n",
    "Roll No. : 3000122        \n",
    "Reg No. : 223001010"
   ]
  },
  {
   "cell_type": "markdown",
   "id": "b3cad2e6",
   "metadata": {},
   "source": [
    "17) A Python program for Prim's Algorithm for Minimum Spanning Tree (MST)\n"
   ]
  },
  {
   "cell_type": "code",
   "execution_count": 13,
   "id": "cb105483",
   "metadata": {},
   "outputs": [
    {
     "name": "stdout",
     "output_type": "stream",
     "text": [
      "Edge \tWeight\n",
      "0 - 1 \t 2\n",
      "1 - 2 \t 3\n",
      "0 - 3 \t 6\n",
      "1 - 4 \t 5\n"
     ]
    }
   ],
   "source": [
    "# python program for above problem\n",
    "import sys\n",
    "class Graph():\n",
    "\tdef __init__(self, vertices):\n",
    "\t\tself.V = vertices\n",
    "\t\tself.graph = [[0 for column in range(vertices)]\n",
    "\t\t\t\t\tfor row in range(vertices)]\n",
    "\tdef printMST(self, parent):\n",
    "\t\tprint(\"Edge \\tWeight\")\n",
    "\t\tfor i in range(1, self.V):\n",
    "\t\t\tprint(parent[i], \"-\", i, \"\\t\", self.graph[i][parent[i]])\n",
    "\tdef minKey(self, key, mstSet):\n",
    "\t\tmin = sys.maxsize\n",
    "\t\tfor v in range(self.V):\n",
    "\t\t\tif key[v] < min and mstSet[v] == False:\n",
    "\t\t\t\tmin = key[v]\n",
    "\t\t\t\tmin_index = v\n",
    "\t\treturn min_index\n",
    "\tdef primMST(self):\n",
    "\t\tkey = [sys.maxsize] * self.V\n",
    "\t\tparent = [None] * self.V \n",
    "\t\tkey[0] = 0\n",
    "\t\tmstSet = [False] * self.V\n",
    "\t\tfor cout in range(self.V):\n",
    "\t\t\tu = self.minKey(key, mstSet)\n",
    "\t\t\tmstSet[u] = True\n",
    "\t\t\tfor v in range(self.V):\n",
    "\t\t\t\tif self.graph[u][v] > 0 and mstSet[v] == False \\\n",
    "\t\t\t\tand key[v] > self.graph[u][v]:\n",
    "\t\t\t\t\tkey[v] = self.graph[u][v]\n",
    "\t\t\t\t\tparent[v] = u\n",
    "\t\tself.printMST(parent)\n",
    "if __name__ == '__main__':\n",
    "\tg = Graph(5)\n",
    "\tg.graph = [[0, 2, 0, 6, 0],\n",
    "\t\t\t[2, 0, 3, 8, 5],\n",
    "\t\t\t[0, 3, 0, 0, 7],\n",
    "\t\t\t[6, 8, 0, 0, 9],\n",
    "\t\t\t[0, 5, 7, 9, 0]]\n",
    "\tg.primMST()\n"
   ]
  },
  {
   "cell_type": "markdown",
   "id": "ff00b7f1",
   "metadata": {},
   "source": [
    "18) Python program for Kruskal's algorithm to find  Minimum Spanning Tree  "
   ]
  },
  {
   "cell_type": "code",
   "execution_count": 14,
   "id": "1bbaae45",
   "metadata": {},
   "outputs": [
    {
     "name": "stdout",
     "output_type": "stream",
     "text": [
      "Edges in the constructed MST\n",
      "2 -- 3 == 4\n",
      "0 -- 3 == 5\n",
      "0 -- 1 == 10\n",
      "Minimum Spanning Tree 19\n"
     ]
    }
   ],
   "source": [
    "# python program for above problem\n",
    "class Graph: \n",
    "\tdef __init__(self, vertices): \n",
    "\t\tself.V = vertices \n",
    "\t\tself.graph = [] \n",
    "\tdef addEdge(self, u, v, w): \n",
    "\t\tself.graph.append([u, v, w]) \n",
    "\tdef find(self, parent, i): \n",
    "\t\tif parent[i] != i: \n",
    "\t\t\tparent[i] = self.find(parent, parent[i]) \n",
    "\t\treturn parent[i] \n",
    "\tdef union(self, parent, rank, x, y): \n",
    "\t\tif rank[x] < rank[y]: \n",
    "\t\t\tparent[x] = y \n",
    "\t\telif rank[x] > rank[y]: \n",
    "\t\t\tparent[y] = x \n",
    "\t\telse: \n",
    "\t\t\tparent[y] = x \n",
    "\t\t\trank[x] += 1\n",
    "\tdef KruskalMST(self): \n",
    "\t\tresult = [] \n",
    "\t\ti = 0\n",
    "\t\te = 0\n",
    "\t\tself.graph = sorted(self.graph, \n",
    "\t\t\t\t\t\t\tkey=lambda item: item[2]) \n",
    "\t\tparent = [] \n",
    "\t\trank = [] \n",
    "\t\tfor node in range(self.V): \n",
    "\t\t\tparent.append(node) \n",
    "\t\t\trank.append(0) \n",
    "\t\twhile e < self.V - 1: \n",
    "\t\t\tu, v, w = self.graph[i] \n",
    "\t\t\ti = i + 1\n",
    "\t\t\tx = self.find(parent, u) \n",
    "\t\t\ty = self.find(parent, v) \n",
    "\t\t\tif x != y: \n",
    "\t\t\t\te = e + 1\n",
    "\t\t\t\tresult.append([u, v, w]) \n",
    "\t\t\t\tself.union(parent, rank, x, y) \n",
    "\t\tminimumCost = 0\n",
    "\t\tprint(\"Edges in the constructed MST\") \n",
    "\t\tfor u, v, weight in result: \n",
    "\t\t\tminimumCost += weight \n",
    "\t\t\tprint(\"%d -- %d == %d\" % (u, v, weight)) \n",
    "\t\tprint(\"Minimum Spanning Tree\", minimumCost)  \n",
    "if __name__ == '__main__': \n",
    "\tg = Graph(4) \n",
    "\tg.addEdge(0, 1, 10) \n",
    "\tg.addEdge(0, 2, 6) \n",
    "\tg.addEdge(0, 3, 5) \n",
    "\tg.addEdge(1, 3, 15) \n",
    "\tg.addEdge(2, 3, 4)  \n",
    "\tg.KruskalMST() "
   ]
  },
  {
   "cell_type": "markdown",
   "id": "aeb9d41a",
   "metadata": {},
   "source": [
    "19) All Pair shortest Path-Floyd Warshall Algorithm"
   ]
  },
  {
   "cell_type": "code",
   "execution_count": 15,
   "id": "56a201e1",
   "metadata": {},
   "outputs": [
    {
     "name": "stdout",
     "output_type": "stream",
     "text": [
      "Following matrix shows the shortest distances between every pair of vertices\n",
      "      0\t       5\t       8\t       9\t \n",
      "    INF       0\t       3\t       4\t \n",
      "    INF     INF       0\t       1\t \n",
      "    INF     INF     INF       0\t \n"
     ]
    }
   ],
   "source": [
    "# Python Program for Floyd Warshall Algorithm\n",
    "V = 4\n",
    "INF = 99999\n",
    "def floydWarshall(graph):\n",
    "    dist = list(map(lambda i: list(map(lambda j: j, i)), graph))\n",
    "    for k in range(V):\n",
    "        for i in range(V):\n",
    "            for j in range(V):\n",
    "                dist[i][j] = min(dist[i][j],\n",
    "                                 dist[i][k] + dist[k][j])                        \n",
    "    printSolution(dist)   \n",
    "def printSolution(dist):\n",
    "    print(\"Following matrix shows the shortest distances\\\n",
    " between every pair of vertices\")\n",
    "    for i in range(V):\n",
    "        for j in range(V):\n",
    "            if(dist[i][j] == INF):\n",
    "                print(\"%7s\" % (\"INF\"), end=\" \")\n",
    "            else:\n",
    "                print(\"%7d\\t\" % (dist[i][j]), end=' ')\n",
    "            if j == V-1:\n",
    "                print()\n",
    "if __name__ == \"__main__\":\n",
    "   \n",
    "    graph = [[0, 5, INF, 10],\n",
    "             [INF, 0, 3, INF],\n",
    "             [INF, INF, 0,   1],\n",
    "             [INF, INF, INF, 0]\n",
    "             ]\n",
    "    # Function call\n",
    "    floydWarshall(graph)\n"
   ]
  },
  {
   "cell_type": "code",
   "execution_count": null,
   "id": "ca717e02",
   "metadata": {},
   "outputs": [],
   "source": []
  }
 ],
 "metadata": {
  "kernelspec": {
   "display_name": "Python 3 (ipykernel)",
   "language": "python",
   "name": "python3"
  },
  "language_info": {
   "codemirror_mode": {
    "name": "ipython",
    "version": 3
   },
   "file_extension": ".py",
   "mimetype": "text/x-python",
   "name": "python",
   "nbconvert_exporter": "python",
   "pygments_lexer": "ipython3",
   "version": "3.11.7"
  }
 },
 "nbformat": 4,
 "nbformat_minor": 5
}
