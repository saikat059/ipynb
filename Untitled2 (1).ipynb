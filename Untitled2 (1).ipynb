{
 "cells": [
  {
   "cell_type": "markdown",
   "id": "a57ecbce-e04f-4928-ae8f-78ad175c1343",
   "metadata": {},
   "source": [
    "# Student 3: Name: Saikat Roy, Roll No. : 30001222059 ,  Reg No. : 223001010660,   Sec-A. (Question No:-10,11,12)"
   ]
  },
  {
   "cell_type": "markdown",
   "id": "f1990c4a-edab-43a6-af49-3b5fce57425e",
   "metadata": {},
   "source": [
    "### 10) Set Manipulation Algorithm by Union-Find (Find Function, Union Function, Path Compression (Modifications to Find()):)"
   ]
  },
  {
   "cell_type": "code",
   "execution_count": 3,
   "id": "e320aaf7-fd2f-4363-afb4-a6ac6d5a86f0",
   "metadata": {},
   "outputs": [
    {
     "name": "stdout",
     "output_type": "stream",
     "text": [
      "OUTPUT:-\n",
      "1\n",
      "3\n"
     ]
    }
   ],
   "source": [
    "class UnionFind:\n",
    "    def __init__(self, n):\n",
    "        self.parent = list(range(n))\n",
    "        self.rank = [0] * n        \n",
    "    def union(self, x, y):\n",
    "        root_x = self.find(x)\n",
    "        root_y = self.find(y)\n",
    "        if self.rank[root_x] < self.rank[root_y]:\n",
    "            self.parent[root_x] = root_y\n",
    "        elif self.rank[root_y] < self.rank[root_x]:\n",
    "            self.parent[root_y] = root_x\n",
    "        else:\n",
    "            self.parent[root_y] = root_x\n",
    "            self.rank[root_x] += 1\n",
    "    def find(self, x):\n",
    "        if self.parent[x] != x:\n",
    "            self.parent[x] = self.find(self.parent[x])\n",
    "        return self.parent[x]\n",
    "    def path_compression(self, x):\n",
    "        while self.parent[x] != x:\n",
    "            self.parent[x] = self.find(self.parent[x])\n",
    "            x = self.parent[x]\n",
    "    def find_with_path_compression(self, x):\n",
    "        self.path_compression(x)\n",
    "        return self.parent[x]\n",
    "uf = UnionFind(5)\n",
    "uf.union(1, 2)\n",
    "uf.union(3, 4)\n",
    "print(\"OUTPUT:-\")\n",
    "print(uf.find_with_path_compression(2)) \n",
    "print(uf.find_with_path_compression(3)) \n"
   ]
  },
  {
   "cell_type": "markdown",
   "id": "9d62998b-5177-4b9a-89d0-a3c2f4e18489",
   "metadata": {},
   "source": [
    "### 11) Union by Rank and Union by Size:"
   ]
  },
  {
   "cell_type": "markdown",
   "id": "78c36703-b402-4f78-8b07-892ffc9fc12f",
   "metadata": {},
   "source": [
    "### 11.1) Union by Rank"
   ]
  },
  {
   "cell_type": "code",
   "execution_count": 6,
   "id": "789e761b-0ffd-4f91-b83f-bd3f56babb54",
   "metadata": {},
   "outputs": [
    {
     "name": "stdout",
     "output_type": "stream",
     "text": [
      "OUTPUT:-\n",
      "Element 0 belongs to the set with representative 3\n",
      "Element 1 belongs to the set with representative 3\n",
      "Element 2 belongs to the set with representative 3\n",
      "Element 3 belongs to the set with representative 3\n",
      "Element 4 belongs to the set with representative 4\n"
     ]
    }
   ],
   "source": [
    "class DisjointSet: \n",
    "\tdef __init__(self, size): \n",
    "\t\tself.parent = [i for i in range(size)] \n",
    "\t\tself.rank = [0] * size \n",
    "\tdef find(self, i):  \n",
    "\t\tif self.parent[i] != i: \n",
    "\t\t\tself.parent[i] = self.find(self.parent[i])  \n",
    "\t\treturn self.parent[i] \n",
    "\tdef union_by_rank(self, i, j): \n",
    "\t\tirep = self.find(i) \n",
    "\t\tjrep = self.find(j)  \n",
    "\t\tif irep == jrep: \n",
    "\t\t\treturn \n",
    "\t\tirank = self.rank[irep] \n",
    "\t\tjrank = self.rank[jrep] \n",
    "\t\tif irank < jrank: \n",
    "\t\t\tself.parent[irep] = jrep  \n",
    "\t\telif jrank < irank:  \n",
    "\t\t\tself.parent[jrep] = irep \n",
    "\t\telse: \n",
    "\t\t\tself.parent[irep] = jrep \n",
    "\t\t\tself.rank[jrep] += 1\n",
    "\tdef main(self):  \n",
    "\t\tsize = 5\n",
    "\t\tds = DisjointSet(size) \n",
    "\t\tds.union_by_rank(0, 1) \n",
    "\t\tds.union_by_rank(2, 3) \n",
    "\t\tds.union_by_rank(1, 3) \n",
    "\t\tfor i in range(size): \n",
    "\t\t\tprint(f\"Element {i} belongs to the set with representative {ds.find(i)}\") \n",
    "print(\"OUTPUT:-\")\n",
    "ds = DisjointSet(size=5) \n",
    "ds.main() "
   ]
  },
  {
   "cell_type": "markdown",
   "id": "385219c5-b056-454f-b134-2034b1086077",
   "metadata": {},
   "source": [
    "### 11.2) Union by Size"
   ]
  },
  {
   "cell_type": "code",
   "execution_count": 8,
   "id": "e63940e7-15df-4978-a824-431f3d4e1434",
   "metadata": {},
   "outputs": [
    {
     "name": "stdout",
     "output_type": "stream",
     "text": [
      "OUTPUT:-\n",
      "Element 0: Representative = 0\n",
      "Element 1: Representative = 0\n",
      "Element 2: Representative = 2\n",
      "Element 3: Representative = 2\n",
      "Element 4: Representative = 0\n"
     ]
    }
   ],
   "source": [
    "# python program for above problem\n",
    "class UnionFind: \n",
    "\tdef __init__(self, n): \n",
    "\t\tself.Parent = list(range(n)) \n",
    "\t\tself.Size = [1] * n \n",
    "\tdef find(self, i): \n",
    "\t\tif self.Parent[i] != i: \n",
    "\t\t\tself.Parent[i] = self.find(self.Parent[i]) \n",
    "\t\treturn self.Parent[i] \n",
    "\tdef unionBySize(self, i, j):  \n",
    "\t\tirep = self.find(i) \n",
    "\t\tjrep = self.find(j) \n",
    "\t\tif irep == jrep: \n",
    "\t\t\treturn\n",
    "\t\tisize = self.Size[irep]  \n",
    "\t\tjsize = self.Size[jrep] \n",
    "\t\tif isize < jsize: \n",
    "\t\t\tself.Parent[irep] = jrep \n",
    "\t\t\tself.Size[jrep] += self.Size[irep] \n",
    "\t\telse: \n",
    "\t\t\tself.Parent[jrep] = irep \n",
    "\t\t\tself.Size[irep] += self.Size[jrep] \n",
    "n = 5\n",
    "unionFind = UnionFind(n) \n",
    "unionFind.unionBySize(0, 1) \n",
    "unionFind.unionBySize(2, 3) \n",
    "unionFind.unionBySize(0, 4) \n",
    "print(\"OUTPUT:-\")\n",
    "for i in range(n): \n",
    "\tprint(\"Element {}: Representative = {}\".format(i, unionFind.find(i))) "
   ]
  },
  {
   "cell_type": "markdown",
   "id": "76941899-6aa7-4db3-97b8-51c505635fd6",
   "metadata": {},
   "source": [
    "### 12) The complete implementation of disjoint set with path compression and union by rank."
   ]
  },
  {
   "cell_type": "code",
   "execution_count": 15,
   "id": "b26777ef-3acd-4a4d-a0b1-83ef658c506d",
   "metadata": {},
   "outputs": [
    {
     "name": "stdout",
     "output_type": "stream",
     "text": [
      "OUTPUT:-\n",
      "Yes\n",
      "No\n"
     ]
    }
   ],
   "source": [
    "class DisjSet: \n",
    "\tdef __init__(self, n):  \n",
    "\t\tself.rank = [1] * n \n",
    "\t\tself.parent = [i for i in range(n)] \n",
    "\tdef find(self, x): \n",
    "\t\tif (self.parent[x] != x): \n",
    "\t\t\tself.parent[x] = self.find(self.parent[x]) \n",
    "\t\treturn self.parent[x]  \n",
    "\tdef Union(self, x, y): \n",
    "\t\txset = self.find(x) \n",
    "\t\tyset = self.find(y) \n",
    "\t\tif xset == yset: \n",
    "\t\t\treturn\n",
    "\t\tif self.rank[xset] < self.rank[yset]: \n",
    "\t\t\tself.parent[xset] = yset \n",
    "\t\telif self.rank[xset] > self.rank[yset]: \n",
    "\t\t\tself.parent[yset] = xset \n",
    "\t\telse: \n",
    "\t\t\tself.parent[yset] = xset \n",
    "\t\t\tself.rank[xset] = self.rank[xset] + 1\n",
    "obj = DisjSet(5) \n",
    "obj.Union(0, 2) \n",
    "obj.Union(4, 2) \n",
    "obj.Union(3, 1) \n",
    "print(\"OUTPUT:-\")\n",
    "if obj.find(4) == obj.find(0): \n",
    "\tprint('Yes') \n",
    "else: \n",
    "\tprint('No') \n",
    "if obj.find(1) == obj.find(0): \n",
    "\tprint('Yes') \n",
    "else: \n",
    "\tprint('No') "
   ]
  },
  {
   "cell_type": "code",
   "execution_count": null,
   "id": "f068c8da-baa1-4858-96c4-67c60d2d8fb8",
   "metadata": {},
   "outputs": [],
   "source": []
  }
 ],
 "metadata": {
  "kernelspec": {
   "display_name": "Python 3 (ipykernel)",
   "language": "python",
   "name": "python3"
  },
  "language_info": {
   "codemirror_mode": {
    "name": "ipython",
    "version": 3
   },
   "file_extension": ".py",
   "mimetype": "text/x-python",
   "name": "python",
   "nbconvert_exporter": "python",
   "pygments_lexer": "ipython3",
   "version": "3.11.7"
  }
 },
 "nbformat": 4,
 "nbformat_minor": 5
}
